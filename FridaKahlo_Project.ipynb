{
 "cells": [
  {
   "cell_type": "markdown",
   "id": "714698da-677c-47c1-a7fe-e1511c2bc806",
   "metadata": {},
   "source": [
    "## Frida Kahlo Exibition\n",
    "\n",
    "You've been hired to work on a retrospective of Frida Kahlo's work at a major museum. You're job is to put together the audio tour, but in order to do that you need to create a list of each painting featured in the exhibit, the date it was painted, and its spot in the tour.\n",
    "\n",
    "Use your knowledge of Python lists to create a master list of each painting, its date, and its audio tour ID.\n",
    "\n",
    "First, create a list called `paintings` and add the following titles to it:\\\n",
    "-The Two Fridas\\\n",
    "-My Dress Hangs Here \\\n",
    "-Tree of Hope \\\n",
    "-Self Portrait With Monkeys"
   ]
  },
  {
   "cell_type": "code",
   "execution_count": 44,
   "id": "bbf09d09-bd19-4390-ac56-ec31ae7197d6",
   "metadata": {},
   "outputs": [],
   "source": [
    "paintings = [\"The Two Fridas\", \"My Dress Hangs Here\", \"Tree of Hope\", \"Self Portrait With Monkeys\"]"
   ]
  },
  {
   "cell_type": "markdown",
   "id": "be557e2f-3387-4f7b-b124-366afae1bb51",
   "metadata": {},
   "source": [
    "Next, create a second list called `dates` and give it the following values:\\\n",
    "-1939\\\n",
    "-1933\\\n",
    "-1946\\\n",
    "-1940"
   ]
  },
  {
   "cell_type": "code",
   "execution_count": 47,
   "id": "bf85f7b7-8539-46e3-8f28-017fbee05d65",
   "metadata": {},
   "outputs": [],
   "source": [
    "dates = [1939, 1933, 1946, 1940]"
   ]
  },
  {
   "cell_type": "markdown",
   "id": "91f0fa2c-753c-4804-8d94-33de19cb6cd2",
   "metadata": {},
   "source": [
    "It doesn't do much good to have the paintings without their dates, and vice versa.\\\n",
    "Zip together the two lists so that each painting is paired with its date and resave it to the `paintings` variable. Make sure to convert the zipped object into a list using the `list()` function. \\\n",
    "Print the results to the terminal to check your work"
   ]
  },
  {
   "cell_type": "code",
   "execution_count": 50,
   "id": "7181818f-b14e-44a6-ba59-121ccc7e5faf",
   "metadata": {},
   "outputs": [
    {
     "data": {
      "text/plain": [
       "[('The Two Fridas', 1939),\n",
       " ('My Dress Hangs Here', 1933),\n",
       " ('Tree of Hope', 1946),\n",
       " ('Self Portrait With Monkeys', 1940)]"
      ]
     },
     "execution_count": 50,
     "metadata": {},
     "output_type": "execute_result"
    }
   ],
   "source": [
    "# zip the two list together and convert back to a list\n",
    "paintings = list(zip(paintings, dates))\n",
    "\n",
    "paintings"
   ]
  },
  {
   "cell_type": "markdown",
   "id": "9c480196-f57e-433d-9fdf-686eea2a701c",
   "metadata": {},
   "source": [
    "There were some last minute additions to the show that we need to add to our list. Append the following paintings to our `paintings` list then re-print to check they were added correctly:\\\n",
    "-'The Broken Column', 1944\\\n",
    "-'The Wounded Deer', 1946\\\n",
    "-'Me and My Doll', 1937"
   ]
  },
  {
   "cell_type": "code",
   "execution_count": 54,
   "id": "8b4f8160-09b2-4ccf-b417-730ebcdd503a",
   "metadata": {},
   "outputs": [
    {
     "data": {
      "text/plain": [
       "[('The Two Fridas', 1939),\n",
       " ('My Dress Hangs Here', 1933),\n",
       " ('Tree of Hope', 1946),\n",
       " ('Self Portrait With Monkeys', 1940),\n",
       " ('The Broken Column', 1944),\n",
       " ('The Wounded Deer', 1946),\n",
       " ('Me and My Doll', 1944)]"
      ]
     },
     "execution_count": 54,
     "metadata": {},
     "output_type": "execute_result"
    }
   ],
   "source": [
    "#append new elemeents\n",
    "paintings.append((\"The Broken Column\", 1944))\n",
    "paintings.append((\"The Wounded Deer\", 1946))\n",
    "paintings.append((\"Me and My Doll\", 1944))\n",
    "\n",
    "paintings"
   ]
  },
  {
   "cell_type": "markdown",
   "id": "9b9007be-4a76-4bc1-a0e2-e86b34a3eb68",
   "metadata": {},
   "source": [
    "Since each of these paintings is going to be in the audio tour, they each need a unique identification number.\\\n",
    "But before we assign them a number, we first need to check how many paintings there are in total.\n",
    "\n",
    "Find the length of the paintings list"
   ]
  },
  {
   "cell_type": "code",
   "execution_count": 57,
   "id": "30e2f74e-77df-4606-b565-df093367baee",
   "metadata": {},
   "outputs": [
    {
     "data": {
      "text/plain": [
       "7"
      ]
     },
     "execution_count": 57,
     "metadata": {},
     "output_type": "execute_result"
    }
   ],
   "source": [
    "list_length = len(paintings)\n",
    "\n",
    "list_length"
   ]
  },
  {
   "cell_type": "markdown",
   "id": "a7c89815-8b4c-4640-9d25-03df607af9eb",
   "metadata": {},
   "source": [
    "Use the `range` method to generate a list of identification numbers that starts at 1 and is equal in length to our list of items.\\\n",
    "Save the list to the variable `audio_tour_number` and check your work by printing the list"
   ]
  },
  {
   "cell_type": "code",
   "execution_count": 62,
   "id": "98930692-d2cc-46ea-8bd1-2ce3da425a24",
   "metadata": {},
   "outputs": [
    {
     "data": {
      "text/plain": [
       "[1, 2, 3, 4, 5, 6, 7]"
      ]
     },
     "execution_count": 62,
     "metadata": {},
     "output_type": "execute_result"
    }
   ],
   "source": [
    "audio_tour_number = list(range(1, list_length + 1))\n",
    "audio_tour_number"
   ]
  },
  {
   "cell_type": "markdown",
   "id": "17a25b99-5d65-4a6b-a986-6009cb03a222",
   "metadata": {},
   "source": [
    "We're finally read to create our master list. \\\n",
    "Zip the `audio_tour_number` list to the `paintings` list and save it as `master_list`"
   ]
  },
  {
   "cell_type": "code",
   "execution_count": 65,
   "id": "c097c3f3-ff7f-465c-9e21-dfd3aa82eae9",
   "metadata": {},
   "outputs": [
    {
     "data": {
      "text/plain": [
       "[(1, ('The Two Fridas', 1939)),\n",
       " (2, ('My Dress Hangs Here', 1933)),\n",
       " (3, ('Tree of Hope', 1946)),\n",
       " (4, ('Self Portrait With Monkeys', 1940)),\n",
       " (5, ('The Broken Column', 1944)),\n",
       " (6, ('The Wounded Deer', 1946)),\n",
       " (7, ('Me and My Doll', 1944))]"
      ]
     },
     "execution_count": 65,
     "metadata": {},
     "output_type": "execute_result"
    }
   ],
   "source": [
    "master_list = list(zip(audio_tour_number, paintings))\n",
    "master_list"
   ]
  },
  {
   "cell_type": "code",
   "execution_count": 67,
   "id": "7e700458-3237-4e61-99dd-b1a53ad1ad2d",
   "metadata": {},
   "outputs": [
    {
     "name": "stdout",
     "output_type": "stream",
     "text": [
      "[(1, ('The Two Fridas', 1939)), (2, ('My Dress Hangs Here', 1933)), (3, ('Tree of Hope', 1946)), (4, ('Self Portrait With Monkeys', 1940)), (5, ('The Broken Column', 1944)), (6, ('The Wounded Deer', 1946)), (7, ('Me and My Doll', 1944))]\n"
     ]
    }
   ],
   "source": [
    "print(master_list)"
   ]
  },
  {
   "cell_type": "code",
   "execution_count": null,
   "id": "2920f0f8-6f0d-493b-b4c7-e4fc10e295bc",
   "metadata": {},
   "outputs": [],
   "source": []
  }
 ],
 "metadata": {
  "kernelspec": {
   "display_name": "Python 3 (ipykernel)",
   "language": "python",
   "name": "python3"
  },
  "language_info": {
   "codemirror_mode": {
    "name": "ipython",
    "version": 3
   },
   "file_extension": ".py",
   "mimetype": "text/x-python",
   "name": "python",
   "nbconvert_exporter": "python",
   "pygments_lexer": "ipython3",
   "version": "3.11.7"
  }
 },
 "nbformat": 4,
 "nbformat_minor": 5
}
