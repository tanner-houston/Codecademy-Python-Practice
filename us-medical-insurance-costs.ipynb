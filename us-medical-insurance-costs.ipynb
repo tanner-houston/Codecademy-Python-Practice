{
 "cells": [
  {
   "cell_type": "markdown",
   "metadata": {},
   "source": [
    "# U.S. Medical Insurance Costs"
   ]
  },
  {
   "cell_type": "markdown",
   "metadata": {},
   "source": [
    "For this project, I will use the python fundamental toolkit to investiage a dataset of U.S. Medical Insurance Costs from Kaggle. \n",
    "\n",
    "The columns of the dataset include: age, sex, bmi, number of children, binary indicator for currently smoking, region of the U.S., and the insurance cost or charge.\n",
    "\n",
    "There are 1338 observations in the U.S. Medical Insurance Costs dataset. \n",
    "\n",
    "While using Pandas or other packages designed for data analysis, the purpose is to use the fundamental elements of python for this project."
   ]
  },
  {
   "cell_type": "code",
   "execution_count": 31,
   "metadata": {},
   "outputs": [],
   "source": [
    "import csv\n",
    "\n",
    "#create empty list that will fill from data in the csv file.\n",
    "age = []\n",
    "sex = []\n",
    "bmi = []\n",
    "children = []\n",
    "smoker = []\n",
    "region = []\n",
    "charges = []\n",
    "\n",
    "with open('insurance.csv') as insurance_csv: #open the csv file\n",
    "    insurance_csv_dict = csv.DictReader(insurance_csv) #read the csv file into a dictionary\n",
    "    for row in insurance_csv_dict: #loop through the rows of the csv and appened the elements to the list from the dictionary key\n",
    "        age.append(row['age'])\n",
    "        sex.append(row['sex'])\n",
    "        bmi.append(row['bmi'])\n",
    "        children.append(row['children'])\n",
    "        smoker.append(row['smoker'])\n",
    "        region.append(row['region'])\n",
    "        charges.append(row['charges'])"
   ]
  },
  {
   "cell_type": "code",
   "execution_count": 33,
   "metadata": {},
   "outputs": [],
   "source": [
    "smoker_binary = [1 if i == 'yes' else 0 for i in smoker] # create binary indicators for smoker (1=smoker)"
   ]
  },
  {
   "cell_type": "markdown",
   "metadata": {},
   "source": [
    "Understanding the scope of the project:\n",
    "\n",
    "1. mean and median charge amount\n",
    "2. distribution of the regions\n",
    "3. mean age\n",
    "4. mean and median number of children"
   ]
  },
  {
   "cell_type": "code",
   "execution_count": 82,
   "metadata": {},
   "outputs": [
    {
     "name": "stdout",
     "output_type": "stream",
     "text": [
      "13270.42\n",
      "1338\n",
      "668\n",
      "669\n",
      "9382.033\n"
     ]
    }
   ],
   "source": [
    "#function that takes a list of charges and finds the mean\n",
    "# charges are in a string data type\n",
    "def average_charge(list):\n",
    "    total_charges = 0\n",
    "    number_of_charges = len(list)\n",
    "    for charge in list:\n",
    "        total_charges += float(charge)\n",
    "    return round((total_charges / number_of_charges), 2)\n",
    "\n",
    "print(average_charge(charges))\n",
    "print(len(charges))\n",
    "#function that takes a list of charges that are in string data type and finds the median\n",
    "def median_charge(list):\n",
    "    list_floats = []\n",
    "    for item in list:\n",
    "        list_floats.append(float(item))\n",
    "    median_charge = 0\n",
    "    list_floats.sort()\n",
    "    #print(list_floats)\n",
    "    if len(list) % 2 == 0:\n",
    "        index_1 = int((len(list) / 2) - 1)\n",
    "        print(index_1)\n",
    "        index_2 = int(len(list) / 2)\n",
    "        print(index_2)\n",
    "        median_charge = (1/2)*(list_floats[index_1] + list_floats[index_2])\n",
    "    else:\n",
    "        median_index = (len(list) / 2) + 0.5\n",
    "        median_charge = list_floats[int(median_index)]\n",
    "    \n",
    "    return median_charge\n",
    "\n",
    "print(median_charge(charges))\n"
   ]
  },
  {
   "cell_type": "code",
   "execution_count": 101,
   "metadata": {},
   "outputs": [
    {
     "name": "stdout",
     "output_type": "stream",
     "text": [
      "{'southwest': 325, 'southeast': 364, 'northwest': 325, 'northeast': 324}\n"
     ]
    }
   ],
   "source": [
    "#function to counts the number of observations for a given region\n",
    "def region_distribution(list):\n",
    "    unique_regions = []\n",
    "    distribution_dict = {}\n",
    "    for region in list:\n",
    "        if region not in unique_regions:\n",
    "            unique_regions.append(region)\n",
    "    \n",
    "    for region in unique_regions:\n",
    "        counter = 0\n",
    "        for reg in list:\n",
    "            if reg == region:\n",
    "                counter += 1\n",
    "                \n",
    "        distribution_dict[region] = counter\n",
    "        \n",
    "    return distribution_dict\n",
    "\n",
    "print(region_distribution(region))    "
   ]
  },
  {
   "cell_type": "code",
   "execution_count": null,
   "metadata": {},
   "outputs": [],
   "source": []
  }
 ],
 "metadata": {
  "kernelspec": {
   "display_name": "Python 3 (ipykernel)",
   "language": "python",
   "name": "python3"
  },
  "language_info": {
   "codemirror_mode": {
    "name": "ipython",
    "version": 3
   },
   "file_extension": ".py",
   "mimetype": "text/x-python",
   "name": "python",
   "nbconvert_exporter": "python",
   "pygments_lexer": "ipython3",
   "version": "3.11.7"
  }
 },
 "nbformat": 4,
 "nbformat_minor": 4
}
