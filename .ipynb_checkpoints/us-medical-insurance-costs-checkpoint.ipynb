{
 "cells": [
  {
   "cell_type": "markdown",
   "metadata": {},
   "source": [
    "# U.S. Medical Insurance Costs"
   ]
  },
  {
   "cell_type": "markdown",
   "metadata": {},
   "source": [
    "For this project, I will use the python fundamental toolkit to investiage a dataset of U.S. Medical Insurance Costs from Kaggle. \n",
    "\n",
    "The columns of the dataset include: age, sex, bmi, number of children, binary indicator for currently smoking, region of the U.S., and the insurance cost or charge.\n",
    "\n",
    "There are 1338 observations in the U.S. Medical Insurance Costs dataset. \n",
    "\n",
    "While using Pandas or other packages designed for data analysis, the purpose is to use the fundamental elements of python for this project."
   ]
  },
  {
   "cell_type": "code",
   "execution_count": 107,
   "metadata": {},
   "outputs": [],
   "source": [
    "import csv\n",
    "\n",
    "#create empty list that will fill from data in the csv file.\n",
    "age = []\n",
    "sex = []\n",
    "bmi = []\n",
    "children = []\n",
    "smoker = []\n",
    "region = []\n",
    "charges = []\n",
    "\n",
    "with open('insurance.csv') as insurance_csv: #open the csv file\n",
    "    insurance_csv_dict = csv.DictReader(insurance_csv) #read the csv file into a dictionary\n",
    "    for row in insurance_csv_dict: #loop through the rows of the csv and appened the elements to the list from the dictionary key\n",
    "        age.append(row['age'])\n",
    "        sex.append(row['sex'])\n",
    "        bmi.append(row['bmi'])\n",
    "        children.append(row['children'])\n",
    "        smoker.append(row['smoker'])\n",
    "        region.append(row['region'])\n",
    "        charges.append(row['charges'])"
   ]
  },
  {
   "cell_type": "code",
   "execution_count": 109,
   "metadata": {},
   "outputs": [],
   "source": [
    "smoker_binary = [1 if i == 'yes' else 0 for i in smoker] # create binary indicators for smoker (1=smoker)"
   ]
  },
  {
   "cell_type": "markdown",
   "metadata": {},
   "source": [
    "Understanding the scope of the project:\n",
    "\n",
    "1. mean and median charge amount\n",
    "2. distribution of the regions\n",
    "3. mean age\n",
    "4. mean and median number of children"
   ]
  },
  {
   "cell_type": "code",
   "execution_count": 112,
   "metadata": {},
   "outputs": [
    {
     "name": "stdout",
     "output_type": "stream",
     "text": [
      "13270.42\n",
      "1338\n",
      "668\n",
      "669\n",
      "9382.033\n"
     ]
    }
   ],
   "source": [
    "#function that takes a list of charges and finds the mean\n",
    "# charges are in a string data type\n",
    "def average_charge(list):\n",
    "    total_charges = 0\n",
    "    number_of_charges = len(list)\n",
    "    for charge in list:\n",
    "        total_charges += float(charge)\n",
    "    return round((total_charges / number_of_charges), 2)\n",
    "\n",
    "print(average_charge(charges))\n",
    "print(len(charges))\n",
    "#function that takes a list of charges that are in string data type and finds the median\n",
    "def median_charge(list):\n",
    "    list_floats = []\n",
    "    for item in list:\n",
    "        list_floats.append(float(item))\n",
    "    median_charge = 0\n",
    "    list_floats.sort()\n",
    "    #print(list_floats)\n",
    "    if len(list) % 2 == 0:\n",
    "        index_1 = int((len(list) / 2) - 1)\n",
    "        print(index_1)\n",
    "        index_2 = int(len(list) / 2)\n",
    "        print(index_2)\n",
    "        median_charge = (1/2)*(list_floats[index_1] + list_floats[index_2])\n",
    "    else:\n",
    "        median_index = (len(list) / 2) + 0.5\n",
    "        median_charge = list_floats[int(median_index)]\n",
    "    \n",
    "    return median_charge\n",
    "\n",
    "print(median_charge(charges))\n"
   ]
  },
  {
   "cell_type": "code",
   "execution_count": 114,
   "metadata": {},
   "outputs": [
    {
     "name": "stdout",
     "output_type": "stream",
     "text": [
      "{'southwest': 325, 'southeast': 364, 'northwest': 325, 'northeast': 324}\n"
     ]
    }
   ],
   "source": [
    "#function to counts the number of observations for a given region\n",
    "def region_distribution(list):\n",
    "    unique_regions = []\n",
    "    distribution_dict = {}\n",
    "    for region in list:\n",
    "        if region not in unique_regions:\n",
    "            unique_regions.append(region)\n",
    "    \n",
    "    for region in unique_regions:\n",
    "        counter = 0\n",
    "        for reg in list:\n",
    "            if reg == region:\n",
    "                counter += 1\n",
    "                \n",
    "        distribution_dict[region] = counter\n",
    "        \n",
    "    return distribution_dict\n",
    "\n",
    "print(region_distribution(region))    "
   ]
  },
  {
   "cell_type": "code",
   "execution_count": 120,
   "metadata": {},
   "outputs": [
    {
     "name": "stdout",
     "output_type": "stream",
     "text": [
      "39.20702541106129\n"
     ]
    }
   ],
   "source": [
    "#Function to finds the mean age of a list of ages that are strings\n",
    "\n",
    "def average_age(list):\n",
    "    total_age = 0\n",
    "    num_of_ages = len(list)\n",
    "    for age in list:\n",
    "        total_age += int(age)\n",
    "\n",
    "    return total_age / num_of_ages\n",
    "\n",
    "print(average_age(age))\n",
    "    "
   ]
  },
  {
   "cell_type": "code",
   "execution_count": 132,
   "metadata": {},
   "outputs": [
    {
     "name": "stdout",
     "output_type": "stream",
     "text": [
      "1.0949177877429\n",
      "1.0\n",
      "{'0': 574, '1': 324, '3': 157, '2': 240, '5': 18, '4': 25}\n",
      "1338\n"
     ]
    }
   ],
   "source": [
    "# Function that finds the mean number of children from a list.\n",
    "\n",
    "def average_children(list):\n",
    "    total_children = 0\n",
    "    list_length = len(list)\n",
    "    for num in list:\n",
    "        total_children += int(num)\n",
    "\n",
    "    return total_children / list_length\n",
    "\n",
    "print(average_children(children))\n",
    "\n",
    "# Function that finds the median number of children from a list\n",
    "\n",
    "def median_num_children(list):\n",
    "    new_list = []\n",
    "    for num in list:\n",
    "        new_list.append(int(num))\n",
    "        \n",
    "    new_list.sort()\n",
    "    median_children = 0\n",
    "    if len(list) % 2 == 0:\n",
    "        i_1 = int(len(list) / 2)\n",
    "        i_2 = int((len(list) / 2) - 1)\n",
    "        median_children = (new_list[i_1] + new_list[i_2]) / 2\n",
    "    else:\n",
    "        i = int((len(list) / 2) + 0.5)\n",
    "        median_children = new_list[i]\n",
    "\n",
    "    return median_children\n",
    "\n",
    "print(median_num_children(children))\n",
    "\n",
    "# Function that counts the number of observation for a given number of children.\n",
    "def children_distribution(list):\n",
    "    unique_num_children = []\n",
    "    distribution_dict = {}\n",
    "    for num in list:\n",
    "        if num not in unique_num_children:\n",
    "            unique_num_children.append(num)\n",
    "    \n",
    "    for num in unique_num_children:\n",
    "        counter = 0\n",
    "        for children in list:\n",
    "            if children == num:\n",
    "                counter += 1\n",
    "                \n",
    "        distribution_dict[num] = counter\n",
    "        \n",
    "    return distribution_dict\n",
    "\n",
    "print(children_distribution(children))   "
   ]
  },
  {
   "cell_type": "code",
   "execution_count": null,
   "metadata": {},
   "outputs": [],
   "source": []
  }
 ],
 "metadata": {
  "kernelspec": {
   "display_name": "Python 3 (ipykernel)",
   "language": "python",
   "name": "python3"
  },
  "language_info": {
   "codemirror_mode": {
    "name": "ipython",
    "version": 3
   },
   "file_extension": ".py",
   "mimetype": "text/x-python",
   "name": "python",
   "nbconvert_exporter": "python",
   "pygments_lexer": "ipython3",
   "version": "3.11.7"
  }
 },
 "nbformat": 4,
 "nbformat_minor": 4
}
